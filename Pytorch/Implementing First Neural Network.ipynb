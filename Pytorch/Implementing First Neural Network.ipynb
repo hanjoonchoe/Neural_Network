{
 "cells": [
  {
   "cell_type": "code",
   "execution_count": 3,
   "metadata": {},
   "outputs": [],
   "source": [
    "import torch\n",
    "import torch.nn as nn"
   ]
  },
  {
   "cell_type": "code",
   "execution_count": 4,
   "metadata": {},
   "outputs": [],
   "source": [
    "# 1. input 2. hidden 3. output 4. batch (Size)\n",
    "\n",
    "n_in, n_h , n_out, batch_size = 10, 5, 1, 10"
   ]
  },
  {
   "cell_type": "code",
   "execution_count": 7,
   "metadata": {},
   "outputs": [
    {
     "name": "stdout",
     "output_type": "stream",
     "text": [
      "torch.Size([10, 10])\n",
      "torch.Size([10, 1])\n"
     ]
    }
   ],
   "source": [
    "x = torch.randn(batch_size, n_in)\n",
    "print(x.size())\n",
    "y = torch.tensor([[1.0], [0.0], [0.0], [1.0], [1.0], [1.0], [0.0], [0.0], [1.0], [1.0]])\n",
    "print(y.size())"
   ]
  },
  {
   "cell_type": "code",
   "execution_count": 12,
   "metadata": {},
   "outputs": [],
   "source": [
    "# Construct Model\n",
    "model = nn.Sequential(nn.Linear(n_in, n_h),\n",
    "                     nn.ReLU(),\n",
    "                     nn.Linear(n_h,n_out),\n",
    "                     nn.Sigmoid())\n",
    "# Construct the loss function\n",
    "criterion = torch.nn.MSELoss()\n",
    "\n",
    "# Construct the optimizer (SGD)\n",
    "optimizer = torch.optim.SGD(model.parameters(),lr=0.01)"
   ]
  },
  {
   "cell_type": "code",
   "execution_count": 14,
   "metadata": {},
   "outputs": [
    {
     "name": "stdout",
     "output_type": "stream",
     "text": [
      "epoch 0 loss 0.2509970963001251\n",
      "epoch 1 loss 0.25090354681015015\n",
      "epoch 2 loss 0.25081026554107666\n",
      "epoch 3 loss 0.2507172226905823\n",
      "epoch 4 loss 0.2506244480609894\n",
      "epoch 5 loss 0.250531941652298\n",
      "epoch 6 loss 0.25043967366218567\n",
      "epoch 7 loss 0.25034764409065247\n",
      "epoch 8 loss 0.25025585293769836\n",
      "epoch 9 loss 0.25016433000564575\n",
      "epoch 10 loss 0.25007307529449463\n",
      "epoch 11 loss 0.24998202919960022\n",
      "epoch 12 loss 0.2498912662267685\n",
      "epoch 13 loss 0.2498006969690323\n",
      "epoch 14 loss 0.24971041083335876\n",
      "epoch 15 loss 0.24962033331394196\n",
      "epoch 16 loss 0.24953050911426544\n",
      "epoch 17 loss 0.24944093823432922\n",
      "epoch 18 loss 0.2493515908718109\n",
      "epoch 19 loss 0.2492624819278717\n",
      "epoch 20 loss 0.2491736263036728\n",
      "epoch 21 loss 0.2490849792957306\n",
      "epoch 22 loss 0.2489965707063675\n",
      "epoch 23 loss 0.2489083856344223\n",
      "epoch 24 loss 0.2488204687833786\n",
      "epoch 25 loss 0.24873273074626923\n",
      "epoch 26 loss 0.24864526093006134\n",
      "epoch 27 loss 0.24855801463127136\n",
      "epoch 28 loss 0.2484709620475769\n",
      "epoch 29 loss 0.24838416278362274\n",
      "epoch 30 loss 0.2482975870370865\n",
      "epoch 31 loss 0.24821121990680695\n",
      "epoch 32 loss 0.2481250911951065\n",
      "epoch 33 loss 0.2480391412973404\n",
      "epoch 34 loss 0.24795345962047577\n",
      "epoch 35 loss 0.24786800146102905\n",
      "epoch 36 loss 0.24778272211551666\n",
      "epoch 37 loss 0.24769766628742218\n",
      "epoch 38 loss 0.2476128488779068\n",
      "epoch 39 loss 0.24752821028232574\n",
      "epoch 40 loss 0.24744382500648499\n",
      "epoch 41 loss 0.24735961854457855\n",
      "epoch 42 loss 0.24727563560009003\n",
      "epoch 43 loss 0.24719186127185822\n",
      "epoch 44 loss 0.24710829555988312\n",
      "epoch 45 loss 0.24702493846416473\n",
      "epoch 46 loss 0.24694176018238068\n",
      "epoch 47 loss 0.24685882031917572\n",
      "epoch 48 loss 0.24677607417106628\n",
      "epoch 49 loss 0.24669352173805237\n"
     ]
    }
   ],
   "source": [
    "# Gradient Descent\n",
    "losses = []\n",
    "for epoch in range(50):\n",
    "    \n",
    "    y_pred = model(x)\n",
    "    \n",
    "    loss = criterion(y_pred, y)\n",
    "    \n",
    "    print('epoch',epoch, 'loss', loss.item())\n",
    "    losses.append(loss.item())\n",
    "    # Calculate gradient\n",
    "    optimizer.zero_grad()\n",
    "    # Backpropagate\n",
    "    loss.backward()\n",
    "    # Update the parameters\n",
    "    optimizer.step()"
   ]
  },
  {
   "cell_type": "code",
   "execution_count": 18,
   "metadata": {},
   "outputs": [],
   "source": [
    "import matplotlib.pyplot as plt"
   ]
  },
  {
   "cell_type": "code",
   "execution_count": 24,
   "metadata": {},
   "outputs": [
    {
     "data": {
      "text/plain": [
       "Text(0, 0.5, 'MES Loss')"
      ]
     },
     "execution_count": 24,
     "metadata": {},
     "output_type": "execute_result"
    },
    {
     "data": {
      "image/png": "[encoded data removed]",
      "text/plain": [
       "<Figure size 432x288 with 1 Axes>"
      ]
     },
     "metadata": {},
     "output_type": "display_data"
    }
   ],
   "source": [
    "plt.style.use('seaborn-whitegrid')\n",
    "fig = plt.figure()\n",
    "ax = plt.axes()\n",
    "ax.plot(losses)\n",
    "ax.set_xlabel('Epochs')\n",
    "ax.set_ylabel('MES Loss')"
   ]
  },
  {
   "cell_type": "code",
   "execution_count": null,
   "metadata": {},
   "outputs": [],
   "source": []
  }
 ],
 "metadata": {
  "kernelspec": {
   "display_name": "Python 3",
   "language": "python",
   "name": "python3"
  },
  "language_info": {
   "codemirror_mode": {
    "name": "ipython",
    "version": 3
   },
   "file_extension": ".py",
   "mimetype": "text/x-python",
   "name": "python",
   "nbconvert_exporter": "python",
   "pygments_lexer": "ipython3",
   "version": "3.7.4"
  }
 },
 "nbformat": 4,
 "nbformat_minor": 2
}
