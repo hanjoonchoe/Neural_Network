{
 "cells": [
  {
   "cell_type": "code",
   "execution_count": 69,
   "metadata": {},
   "outputs": [],
   "source": [
    "import torch\n",
    "import torch.nn as nn\n",
    "import torch.nn.functional as F\n",
    "import torch.optim as optim\n",
    "import torchvision\n",
    "import torchvision.transforms as transforms"
   ]
  },
  {
   "cell_type": "code",
   "execution_count": null,
   "metadata": {},
   "outputs": [],
   "source": [
    "# import MNIST DATASET and DataLoader\n",
    "\n",
    "train_dataset = torchvision.datasets.MNIST(root='./data',train=True, transform=transforms.ToTensor(), download=True)\n",
    "\n",
    "test_dataset = torchvision.datasets.MNIST(root='./data',train=False, transform=transforms.ToTensor(),download = True)\n",
    "\n",
    "train_loader = torch.utils.data.DataLoader(dataset=train_dataset, batch_size=100, shuffle=True)\n",
    "\n",
    "test_loader = torch.utils.data.DataLoader(dataset=test_dataset,  batch_size=100, shuffle=False)"
   ]
  },
  {
   "cell_type": "code",
   "execution_count": 115,
   "metadata": {},
   "outputs": [],
   "source": [
    "# Summary :\n",
    "        \n",
    "# Calculation\n",
    "# [nChannel @ heightxwidth]\n",
    "# input 28x28\n",
    "# conv2d 32@ 28x28 (28 - 5 + 4)/1 +1\n",
    "# relu\n",
    "# max pool 2d 32@ 14x14 (28 - 2 + 0)/2 + 1\n",
    "# conv2d 64@ 14x14 (14 - 5 + 4)/1 + 1\n",
    "# relu\n",
    "# max pool 2d 64@ 7x7 (14 - 2 + 0)/2 + 1\n",
    "# Flatten 64*7*7 nChannel*height*width\n",
    "# 64*7*7 -> 248\n",
    "# relu\n",
    "# 248 -> 100\n",
    "# relu\n",
    "# 100 -> 10\n",
    "\n",
    "class Net(nn.Module):\n",
    "    \n",
    "    def __init__(self):\n",
    "        \n",
    "        super(Net, self).__init__()\n",
    "        # 1. input 2. output 3. window 4. stride 5. pad\n",
    "        self.conv1 = nn.Conv2d(1,32,5,1,2)\n",
    "        self.conv2 = nn.Conv2d(32,64,5,1,2)\n",
    "        # affine operation 1. input 2.output\n",
    "        self.fc1 = nn.Linear(7*7*64, 248)\n",
    "        self.fc2 = nn.Linear(248, 100)\n",
    "        self.fc3 = nn.Linear(100, 10)\n",
    "        \n",
    "    def forward(self, x):\n",
    "        # 2D conv -> relu -> max-pooling 2 window 2 stride\n",
    "        x = F.max_pool2d(F.relu(self.conv1(x)),2,2)\n",
    "        x = F.max_pool2d(F.relu(self.conv2(x)),2,2)\n",
    "        # Flatten (7*7*64)\n",
    "        x = x.reshape(x.size(0),-1)\n",
    "        x = F.relu(self.fc1(x))\n",
    "        x = F.relu(self.fc2(x))\n",
    "        x = self.fc3(x)\n",
    "\n",
    "        return x"
   ]
  },
  {
   "cell_type": "code",
   "execution_count": 117,
   "metadata": {},
   "outputs": [],
   "source": [
    "model = Net()\n",
    "\n",
    "# Loss : Cross Entropy and optimizer : Stochastic Gradient Descent\n",
    "criterion = nn.CrossEntropyLoss()\n",
    "optimizer = torch.optim.SGD(model.parameters(), lr=learning_rate)"
   ]
  },
  {
   "cell_type": "code",
   "execution_count": 118,
   "metadata": {},
   "outputs": [
    {
     "name": "stdout",
     "output_type": "stream",
     "text": [
      "Epoch [1/5], Step [100/600], Loss: 2.3008, Accuracy: 8.00%\n",
      "Epoch [1/5], Step [200/600], Loss: 2.2851, Accuracy: 10.00%\n",
      "Epoch [1/5], Step [300/600], Loss: 2.2798, Accuracy: 17.00%\n",
      "Epoch [1/5], Step [400/600], Loss: 2.2497, Accuracy: 41.00%\n",
      "Epoch [1/5], Step [500/600], Loss: 2.1839, Accuracy: 56.00%\n",
      "Epoch [1/5], Step [600/600], Loss: 1.9242, Accuracy: 74.00%\n",
      "Epoch [2/5], Step [100/600], Loss: 1.1196, Accuracy: 69.00%\n",
      "Epoch [2/5], Step [200/600], Loss: 0.7119, Accuracy: 76.00%\n",
      "Epoch [2/5], Step [300/600], Loss: 0.5874, Accuracy: 83.00%\n",
      "Epoch [2/5], Step [400/600], Loss: 0.4609, Accuracy: 84.00%\n",
      "Epoch [2/5], Step [500/600], Loss: 0.4379, Accuracy: 82.00%\n",
      "Epoch [2/5], Step [600/600], Loss: 0.2791, Accuracy: 90.00%\n",
      "Epoch [3/5], Step [100/600], Loss: 0.3898, Accuracy: 88.00%\n",
      "Epoch [3/5], Step [200/600], Loss: 0.2996, Accuracy: 92.00%\n",
      "Epoch [3/5], Step [300/600], Loss: 0.3358, Accuracy: 91.00%\n",
      "Epoch [3/5], Step [400/600], Loss: 0.2147, Accuracy: 93.00%\n",
      "Epoch [3/5], Step [500/600], Loss: 0.3066, Accuracy: 92.00%\n",
      "Epoch [3/5], Step [600/600], Loss: 0.2159, Accuracy: 91.00%\n",
      "Epoch [4/5], Step [100/600], Loss: 0.2143, Accuracy: 92.00%\n",
      "Epoch [4/5], Step [200/600], Loss: 0.2310, Accuracy: 94.00%\n",
      "Epoch [4/5], Step [300/600], Loss: 0.2387, Accuracy: 92.00%\n",
      "Epoch [4/5], Step [400/600], Loss: 0.2642, Accuracy: 93.00%\n",
      "Epoch [4/5], Step [500/600], Loss: 0.2077, Accuracy: 93.00%\n",
      "Epoch [4/5], Step [600/600], Loss: 0.1749, Accuracy: 96.00%\n",
      "Epoch [5/5], Step [100/600], Loss: 0.2008, Accuracy: 94.00%\n",
      "Epoch [5/5], Step [200/600], Loss: 0.1849, Accuracy: 92.00%\n",
      "Epoch [5/5], Step [300/600], Loss: 0.1673, Accuracy: 94.00%\n",
      "Epoch [5/5], Step [400/600], Loss: 0.1570, Accuracy: 95.00%\n",
      "Epoch [5/5], Step [500/600], Loss: 0.0676, Accuracy: 99.00%\n",
      "Epoch [5/5], Step [600/600], Loss: 0.1379, Accuracy: 97.00%\n"
     ]
    }
   ],
   "source": [
    "# Train the model\n",
    "total_step = len(train_loader)\n",
    "loss_list = []\n",
    "acc_list = []\n",
    "for epoch in range(num_epochs):\n",
    "    for i, (images, labels) in enumerate(train_loader):\n",
    "        # Run the forward pass\n",
    "        outputs = model(images)\n",
    "        loss = criterion(outputs, labels)\n",
    "        loss_list.append(loss.item())\n",
    "\n",
    "        # perform SGD optimization and Backpropagation\n",
    "        optimizer.zero_grad()\n",
    "        loss.backward()\n",
    "        optimizer.step()\n",
    "\n",
    "        # Track the accuracy\n",
    "        total = labels.size(0)\n",
    "        _, predicted = torch.max(outputs.data, 1)\n",
    "        correct = (predicted == labels).sum().item()\n",
    "        acc_list.append(correct / total)\n",
    "\n",
    "        if (i + 1) % 100 == 0:\n",
    "            print('Epoch [{}/{}], Step [{}/{}], Loss: {:.4f}, Accuracy: {:.2f}%'\n",
    "                  .format(epoch + 1, num_epochs, i + 1, total_step, loss.item(),\n",
    "                          (correct / total) * 100))"
   ]
  },
  {
   "cell_type": "code",
   "execution_count": 119,
   "metadata": {},
   "outputs": [
    {
     "name": "stdout",
     "output_type": "stream",
     "text": [
      "Test Accuracy of the model on the 10000 test images: 95.34 %\n"
     ]
    }
   ],
   "source": [
    "# Test the model\n",
    "model.eval()\n",
    "with torch.no_grad():\n",
    "    correct = 0\n",
    "    total = 0\n",
    "    for images, labels in test_loader:\n",
    "        outputs = model(images)\n",
    "        _, predicted = torch.max(outputs.data, 1)\n",
    "        total += labels.size(0)\n",
    "        correct += (predicted == labels).sum().item()\n",
    "\n",
    "    print('Test Accuracy of the model on the 10000 test images: {} %'.format((correct / total) * 100))"
   ]
  },
  {
   "cell_type": "markdown",
   "metadata": {},
   "source": [
    "Change Optimizer SGD -> ADAM"
   ]
  },
  {
   "cell_type": "code",
   "execution_count": 120,
   "metadata": {},
   "outputs": [],
   "source": [
    "optimizer = torch.optim.Adam(model.parameters(), lr=learning_rate)"
   ]
  },
  {
   "cell_type": "code",
   "execution_count": 121,
   "metadata": {},
   "outputs": [
    {
     "name": "stdout",
     "output_type": "stream",
     "text": [
      "Epoch [1/5], Step [100/600], Loss: 0.2418, Accuracy: 92.00%\n",
      "Epoch [1/5], Step [200/600], Loss: 0.2561, Accuracy: 93.00%\n",
      "Epoch [1/5], Step [300/600], Loss: 0.1035, Accuracy: 94.00%\n",
      "Epoch [1/5], Step [400/600], Loss: 0.1294, Accuracy: 95.00%\n",
      "Epoch [1/5], Step [500/600], Loss: 0.0692, Accuracy: 96.00%\n",
      "Epoch [1/5], Step [600/600], Loss: 0.0443, Accuracy: 99.00%\n",
      "Epoch [2/5], Step [100/600], Loss: 0.0592, Accuracy: 98.00%\n",
      "Epoch [2/5], Step [200/600], Loss: 0.0993, Accuracy: 95.00%\n",
      "Epoch [2/5], Step [300/600], Loss: 0.1872, Accuracy: 96.00%\n",
      "Epoch [2/5], Step [400/600], Loss: 0.1860, Accuracy: 94.00%\n",
      "Epoch [2/5], Step [500/600], Loss: 0.1069, Accuracy: 96.00%\n",
      "Epoch [2/5], Step [600/600], Loss: 0.0870, Accuracy: 97.00%\n",
      "Epoch [3/5], Step [100/600], Loss: 0.0747, Accuracy: 97.00%\n",
      "Epoch [3/5], Step [200/600], Loss: 0.0377, Accuracy: 98.00%\n",
      "Epoch [3/5], Step [300/600], Loss: 0.0994, Accuracy: 97.00%\n",
      "Epoch [3/5], Step [400/600], Loss: 0.0611, Accuracy: 97.00%\n",
      "Epoch [3/5], Step [500/600], Loss: 0.0774, Accuracy: 98.00%\n",
      "Epoch [3/5], Step [600/600], Loss: 0.1053, Accuracy: 98.00%\n",
      "Epoch [4/5], Step [100/600], Loss: 0.0767, Accuracy: 96.00%\n",
      "Epoch [4/5], Step [200/600], Loss: 0.0829, Accuracy: 97.00%\n",
      "Epoch [4/5], Step [300/600], Loss: 0.1496, Accuracy: 93.00%\n",
      "Epoch [4/5], Step [400/600], Loss: 0.1254, Accuracy: 96.00%\n",
      "Epoch [4/5], Step [500/600], Loss: 0.1168, Accuracy: 97.00%\n",
      "Epoch [4/5], Step [600/600], Loss: 0.0123, Accuracy: 100.00%\n",
      "Epoch [5/5], Step [100/600], Loss: 0.1256, Accuracy: 97.00%\n",
      "Epoch [5/5], Step [200/600], Loss: 0.0654, Accuracy: 97.00%\n",
      "Epoch [5/5], Step [300/600], Loss: 0.0392, Accuracy: 98.00%\n",
      "Epoch [5/5], Step [400/600], Loss: 0.1180, Accuracy: 94.00%\n",
      "Epoch [5/5], Step [500/600], Loss: 0.1213, Accuracy: 96.00%\n",
      "Epoch [5/5], Step [600/600], Loss: 0.0752, Accuracy: 98.00%\n"
     ]
    }
   ],
   "source": [
    "# Train the model\n",
    "total_step = len(train_loader)\n",
    "loss_list = []\n",
    "acc_list = []\n",
    "for epoch in range(num_epochs):\n",
    "    for i, (images, labels) in enumerate(train_loader):\n",
    "        # Run the forward pass\n",
    "        outputs = model(images)\n",
    "        loss = criterion(outputs, labels)\n",
    "        loss_list.append(loss.item())\n",
    "\n",
    "        # perform SGD optimization and Backpropagation\n",
    "        optimizer.zero_grad()\n",
    "        loss.backward()\n",
    "        optimizer.step()\n",
    "\n",
    "        # Track the accuracy\n",
    "        total = labels.size(0)\n",
    "        _, predicted = torch.max(outputs.data, 1)\n",
    "        correct = (predicted == labels).sum().item()\n",
    "        acc_list.append(correct / total)\n",
    "\n",
    "        if (i + 1) % 100 == 0:\n",
    "            print('Epoch [{}/{}], Step [{}/{}], Loss: {:.4f}, Accuracy: {:.2f}%'\n",
    "                  .format(epoch + 1, num_epochs, i + 1, total_step, loss.item(),\n",
    "                          (correct / total) * 100))"
   ]
  },
  {
   "cell_type": "code",
   "execution_count": 122,
   "metadata": {},
   "outputs": [
    {
     "name": "stdout",
     "output_type": "stream",
     "text": [
      "Test Accuracy of the model on the 10000 test images: 97.08 %\n"
     ]
    }
   ],
   "source": [
    "# Test the model\n",
    "model.eval()\n",
    "with torch.no_grad():\n",
    "    correct = 0\n",
    "    total = 0\n",
    "    for images, labels in test_loader:\n",
    "        outputs = model(images)\n",
    "        _, predicted = torch.max(outputs.data, 1)\n",
    "        total += labels.size(0)\n",
    "        correct += (predicted == labels).sum().item()\n",
    "\n",
    "    print('Test Accuracy of the model on the 10000 test images: {} %'.format((correct / total) * 100))"
   ]
  },
  {
   "cell_type": "markdown",
   "metadata": {},
   "source": [
    "Reference : https://adventuresinmachinelearning.com/convolutional-neural-networks-tutorial-in-pytorch/"
   ]
  },
  {
   "cell_type": "code",
   "execution_count": null,
   "metadata": {},
   "outputs": [],
   "source": []
  }
 ],
 "metadata": {
  "kernelspec": {
   "display_name": "Python 3",
   "language": "python",
   "name": "python3"
  },
  "language_info": {
   "codemirror_mode": {
    "name": "ipython",
    "version": 3
   },
   "file_extension": ".py",
   "mimetype": "text/x-python",
   "name": "python",
   "nbconvert_exporter": "python",
   "pygments_lexer": "ipython3",
   "version": "3.7.4"
  }
 },
 "nbformat": 4,
 "nbformat_minor": 2
}
